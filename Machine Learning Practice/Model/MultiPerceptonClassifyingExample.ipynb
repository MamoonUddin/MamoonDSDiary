{
 "cells": [
  {
   "cell_type": "code",
   "execution_count": 31,
   "id": "cf22def3",
   "metadata": {},
   "outputs": [
    {
     "name": "stdout",
     "output_type": "stream",
     "text": [
      "[0.9321416834482482, 0.6224718623715365, 0.4973978245668288]\n"
     ]
    }
   ],
   "source": [
    "import numpy, random , os \n",
    "lr = .1\n",
    "bias = 1\n",
    "bias2=1\n",
    "#https://towardsdatascience.com/how-neural-networks-solve-the-xor-problem-59763136bdd7\n",
    "weights = [random.random(),random.random(),random.random()]\n",
    "weights2 = [random.random(),random.random(),random.random()]\n",
    "\n",
    "print(weights)"
   ]
  },
  {
   "cell_type": "code",
   "execution_count": 32,
   "id": "555cd7ea",
   "metadata": {},
   "outputs": [],
   "source": [
    "def Perceptron(input1,input2,output,w,b):\n",
    "    outputP = input1*w[0]+ input2*w[1] +b*w[2]\n",
    "    if outputP >0:\n",
    "        outputP =1 \n",
    "    else:\n",
    "        outputP = 0\n",
    "    error = output - outputP\n",
    "    #print(outputP)\n",
    "    #print(error)\n",
    "    w[0]+= error*lr*input1\n",
    "    w[1]+= error*lr*input2\n",
    "    w[2]+= error*lr*bias\n"
   ]
  },
  {
   "cell_type": "code",
   "execution_count": 33,
   "id": "c4b15313",
   "metadata": {},
   "outputs": [],
   "source": [
    "#training weights\n",
    "epochs = 50\n",
    "for i in range(epochs):\n",
    "    #NAND gate\n",
    "    Perceptron(0,0,1,weights,bias)\n",
    "    Perceptron(0,1,1,weights,bias)\n",
    "    Perceptron(1,0,1,weights,bias)\n",
    "    Perceptron(1,1,0,weights,bias)\n",
    "    #OR  gate\n",
    "    Perceptron(0,0,0,weights2,bias2)\n",
    "    Perceptron(0,1,1,weights2,bias2)\n",
    "    Perceptron(1,0,1,weights2,bias2)\n",
    "    Perceptron(1,1,1,weights2,bias2)"
   ]
  },
  {
   "cell_type": "code",
   "execution_count": 34,
   "id": "bf12f83a",
   "metadata": {},
   "outputs": [],
   "source": [
    "\n",
    "def summation(input1,input2,w1,b1,w2,b2):\n",
    "    O1 = input1*w1[0] + input2*w1[1] + b1*w1[2]#Nand gate\n",
    "    O2 = input1*w2[0] + input2*w2[1] + b2*w2[2]#or gate\n",
    "    \n",
    "    outputP = (O1*O2)# this should be an operator play around and find out which one it should be.\n",
    "    # this is the and gate\n",
    "    if  outputP > 0:\n",
    "        outputP =1 \n",
    "    else:\n",
    "        outputP = 0\n",
    "    \n",
    "    return outputP\n",
    "    "
   ]
  },
  {
   "cell_type": "code",
   "execution_count": 35,
   "id": "5a9b6b26",
   "metadata": {},
   "outputs": [
    {
     "name": "stdout",
     "output_type": "stream",
     "text": [
      "1 or 1 is:  0  :  0.5\n",
      "1 or 0 is:  1  :  0.7310585786300049\n",
      "0 or 1 is:  1  :  0.7310585786300049\n",
      "0 or 0 is:  0  :  0.5\n"
     ]
    }
   ],
   "source": [
    "val = [1,0]\n",
    "for x in val:\n",
    "    for y in val:\n",
    "        out = summation(x,y,weights,bias,weights2,bias2)\n",
    "        print(x,\"or\",y,\"is: \",out,\" : \",(1/(1+(2.718281828459045**(-out)))))"
   ]
  },
  {
   "cell_type": "code",
   "execution_count": null,
   "id": "d2368011",
   "metadata": {},
   "outputs": [],
   "source": []
  },
  {
   "cell_type": "code",
   "execution_count": null,
   "id": "69171ecb",
   "metadata": {},
   "outputs": [],
   "source": []
  }
 ],
 "metadata": {
  "kernelspec": {
   "display_name": "Python 3 (ipykernel)",
   "language": "python",
   "name": "python3"
  },
  "language_info": {
   "codemirror_mode": {
    "name": "ipython",
    "version": 3
   },
   "file_extension": ".py",
   "mimetype": "text/x-python",
   "name": "python",
   "nbconvert_exporter": "python",
   "pygments_lexer": "ipython3",
   "version": "3.9.7"
  }
 },
 "nbformat": 4,
 "nbformat_minor": 5
}
